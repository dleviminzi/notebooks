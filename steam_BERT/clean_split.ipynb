{
 "metadata": {
  "language_info": {
   "codemirror_mode": {
    "name": "ipython",
    "version": 3
   },
   "file_extension": ".py",
   "mimetype": "text/x-python",
   "name": "python",
   "nbconvert_exporter": "python",
   "pygments_lexer": "ipython3",
   "version": "3.7.9-final"
  },
  "orig_nbformat": 2,
  "kernelspec": {
   "name": "python3",
   "display_name": "Python 3.7.9 64-bit ('torch': conda)",
   "metadata": {
    "interpreter": {
     "hash": "678ff1cdcc06c9b11104ac7519a6d96e21d7a896850a735183b03bd874b0b130"
    }
   }
  }
 },
 "nbformat": 4,
 "nbformat_minor": 2,
 "cells": [
  {
   "cell_type": "code",
   "execution_count": 55,
   "metadata": {},
   "outputs": [],
   "source": [
    "import pandas as pd"
   ]
  },
  {
   "cell_type": "code",
   "execution_count": 56,
   "metadata": {},
   "outputs": [],
   "source": [
    "df = pd.read_csv('../raw_data/steamset.csv')"
   ]
  },
  {
   "cell_type": "code",
   "execution_count": 57,
   "metadata": {},
   "outputs": [],
   "source": [
    "df = df[['review', 'sentiment']]"
   ]
  },
  {
   "cell_type": "code",
   "execution_count": 58,
   "metadata": {},
   "outputs": [],
   "source": [
    "import re\n",
    "\n",
    "def truncate(row):\n",
    "    trunc = row['review'][:512]\n",
    "    return trunc"
   ]
  },
  {
   "cell_type": "code",
   "execution_count": 59,
   "metadata": {},
   "outputs": [],
   "source": [
    "df['review'] = df.apply(truncate, axis=1)"
   ]
  },
  {
   "cell_type": "code",
   "execution_count": 60,
   "metadata": {},
   "outputs": [],
   "source": [
    "df['review'] = df.review.str.replace('[^a-zA-Z0-9]', ' ')"
   ]
  },
  {
   "cell_type": "code",
   "execution_count": 61,
   "metadata": {},
   "outputs": [
    {
     "output_type": "execute_result",
     "data": {
      "text/plain": [
       "                                              review  sentiment\n",
       "0  spend thousands of money on guns and sacrifice...          1\n",
       "1  i playing cs 1 6 since 5 years on non steam no...          1\n",
       "2  the og cs that i never played  t t  10 10 stil...          1\n",
       "3  well  to tell the truth i wouldn t buy it for ...          1\n",
       "4  first of all  this is a fucking great game   i...          1"
      ],
      "text/html": "<div>\n<style scoped>\n    .dataframe tbody tr th:only-of-type {\n        vertical-align: middle;\n    }\n\n    .dataframe tbody tr th {\n        vertical-align: top;\n    }\n\n    .dataframe thead th {\n        text-align: right;\n    }\n</style>\n<table border=\"1\" class=\"dataframe\">\n  <thead>\n    <tr style=\"text-align: right;\">\n      <th></th>\n      <th>review</th>\n      <th>sentiment</th>\n    </tr>\n  </thead>\n  <tbody>\n    <tr>\n      <th>0</th>\n      <td>spend thousands of money on guns and sacrifice...</td>\n      <td>1</td>\n    </tr>\n    <tr>\n      <th>1</th>\n      <td>i playing cs 1 6 since 5 years on non steam no...</td>\n      <td>1</td>\n    </tr>\n    <tr>\n      <th>2</th>\n      <td>the og cs that i never played  t t  10 10 stil...</td>\n      <td>1</td>\n    </tr>\n    <tr>\n      <th>3</th>\n      <td>well  to tell the truth i wouldn t buy it for ...</td>\n      <td>1</td>\n    </tr>\n    <tr>\n      <th>4</th>\n      <td>first of all  this is a fucking great game   i...</td>\n      <td>1</td>\n    </tr>\n  </tbody>\n</table>\n</div>"
     },
     "metadata": {},
     "execution_count": 61
    }
   ],
   "source": [
    "df.head()"
   ]
  },
  {
   "cell_type": "code",
   "execution_count": 62,
   "metadata": {},
   "outputs": [],
   "source": [
    "df.to_csv('../raw_data/stm_clean.csv')"
   ]
  },
  {
   "cell_type": "code",
   "execution_count": 63,
   "metadata": {},
   "outputs": [],
   "source": [
    "from sklearn.model_selection import train_test_split\n",
    "\n",
    "train, valid = train_test_split(df, test_size=0.2)\n",
    "\n",
    "train = train.reset_index()\n",
    "valid = valid.reset_index()\n",
    "\n",
    "train = train[['review', 'sentiment']]\n",
    "valid = valid[['review', 'sentiment']]"
   ]
  },
  {
   "cell_type": "code",
   "execution_count": 64,
   "metadata": {},
   "outputs": [],
   "source": [
    "train.to_csv('../raw_data/train.csv', index=False)\n",
    "valid.to_csv('../raw_data/val.csv', index=False)"
   ]
  },
  {
   "source": [
    "## Creating Samples to Test Tokenization Time"
   ],
   "cell_type": "markdown",
   "metadata": {}
  },
  {
   "cell_type": "code",
   "execution_count": 65,
   "metadata": {},
   "outputs": [],
   "source": [
    "train_sample = train[:500]\n",
    "valid_sample = test[:100]"
   ]
  },
  {
   "cell_type": "code",
   "execution_count": 67,
   "metadata": {},
   "outputs": [],
   "source": [
    "train_sample.to_csv('../raw_data/train_sample.csv', index=False)\n",
    "valid_sample.to_csv('../raw_data/val_sample.csv', index=False)"
   ]
  },
  {
   "cell_type": "code",
   "execution_count": null,
   "metadata": {},
   "outputs": [],
   "source": []
  }
 ]
}