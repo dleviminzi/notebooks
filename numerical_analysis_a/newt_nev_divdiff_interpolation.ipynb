{
 "cells": [
  {
   "cell_type": "code",
   "execution_count": 1,
   "metadata": {},
   "outputs": [],
   "source": [
    "import numpy as np"
   ]
  },
  {
   "cell_type": "code",
   "execution_count": 12,
   "metadata": {},
   "outputs": [],
   "source": [
    "# here is the base Newton's method\n",
    "def newtons_method(f, f_p, p_0, TOL, n):\n",
    "    for i in range(n):\n",
    "        \n",
    "        p = p_0 - f(p_0)/f_p(p_0)\n",
    "        \n",
    "        if abs(p - p_0) < TOL:\n",
    "            return 'p{} = {} and is within the desired tolerance({}) with f(p{}) = {}'.format(i,p,TOL,i,f(p))\n",
    "\n",
    "        print('p{} = {}'.format(i, p_0))\n",
    "        print('f(p{}) = {}\\n'.format(i, f(p_0)))\n",
    "        \n",
    "        p_0 = p\n",
    "        \n",
    "    return 'failed, p = {}'.format(p)"
   ]
  },
  {
   "cell_type": "code",
   "execution_count": 17,
   "metadata": {},
   "outputs": [],
   "source": [
    "# here is Newton's method for the case of multiple roots\n",
    "def newtons_method_M(f, f_p, f_p2, p_0, TOL, n):\n",
    "    for i in range(n):\n",
    "\n",
    "        p = p_0 - (f(p_0)*f_p(p_0))/(f_p(p_0)**2 - f(p_0)*f_p2(p_0))\n",
    "        \n",
    "        if abs(p - p_0) < TOL:\n",
    "            return 'p{} = {} and is within the desired tolerance({}) with f(p{}) = {}'.format(i,p,TOL,i,f(p))\n",
    "        \n",
    "        print('p{} = {}'.format(i, p_0))\n",
    "        print('f(p{}) = {} \\n'.format(i, f(p_0)))\n",
    "\n",
    "        p_0 = p\n",
    "    \n",
    "    return 'failed, p = {}'.format(p)\n"
   ]
  },
  {
   "cell_type": "code",
   "execution_count": 18,
   "metadata": {},
   "outputs": [],
   "source": [
    "def f(x):\n",
    "    return 1 - 4*x*np.cos(x) + 2*x**2 + np.cos(2*x)\n",
    "\n",
    "def f_p(x):\n",
    "    return 4*x - 2*np.sin(2*x) + 4*x*np.sin(x) - 4*np.cos(x)\n",
    "\n",
    "def f_p2(x):\n",
    "    return 4 - 4*np.cos(2*x) + 8*np.sin(x) + 4*x*np.cos(x)\n"
   ]
  },
  {
   "cell_type": "code",
   "execution_count": 19,
   "metadata": {
    "tags": []
   },
   "outputs": [
    {
     "output_type": "stream",
     "name": "stdout",
     "text": "p0 = 0.1\nf(p0) = 1.6020649117300314\n\np1 = 0.5068816930507142\nf(p1) = 0.2699373858577222\n\np2 = 0.6305411956851232\nf(p2) = 0.062776541023145\n\np3 = 0.686268850740973\nf(p3) = 0.015258928878376377\n\np4 = 0.7130024018607743\nf(p4) = 0.00376694502199984\n\np5 = 0.726120952450327\nf(p5) = 0.0009361166903918139\n\np6 = 0.7326218519111595\nf(p6) = 0.00023334730210923527\n\np7 = 0.7358581358818103\nf(p7) = 5.825283362971556e-05\n\np8 = 0.7374727881258808\nf(p8) = 1.4552785721211325e-05\n\np9 = 0.738279248165467\nf(p9) = 3.6368983228896035e-06\n\np10 = 0.7386822624520359\nf(p10) = 9.090626118674061e-07\n\np11 = 0.7388837157600735\nf(p11) = 2.2724542500518474e-07\n\np12 = 0.7389844289674211\nf(p12) = 5.680882894654182e-08\n\np13 = 0.7390347822109581\nf(p13) = 1.4201891260223753e-08\n\np14 = 0.739059957992611\nf(p14) = 3.550433710919343e-09\n\n"
    },
    {
     "output_type": "execute_result",
     "data": {
      "text/plain": "'p15 = 0.7390788394643324 and is within the desired tolerance(1e-05) with f(p15) = 2.2190027593183004e-10'"
     },
     "metadata": {},
     "execution_count": 19
    }
   ],
   "source": [
    "newtons_method(f, f_p, 0.1, 10**(-5), 20)"
   ]
  },
  {
   "cell_type": "code",
   "execution_count": 20,
   "metadata": {
    "tags": []
   },
   "outputs": [
    {
     "output_type": "stream",
     "name": "stdout",
     "text": "p0 = 0.1\nf(p0) = 1.6020649117300314 \n\np1 = 0.568703566132978\nf(p1) = 0.15003836476093774 \n\np2 = 0.7309122552990355\nf(p2) = 0.0003728351251328921 \n\np3 = 0.7390701847803285\nf(p3) = 1.2517802489009355e-09 \n\n"
    },
    {
     "output_type": "execute_result",
     "data": {
      "text/plain": "'p4 = 0.7390851331087503 and is within the desired tolerance(1e-05) with f(p4) = -5.134781488891349e-16'"
     },
     "metadata": {},
     "execution_count": 20
    }
   ],
   "source": [
    "newtons_method_M(f, f_p, f_p2, 0.1, 10**(-5), 20)"
   ]
  },
  {
   "cell_type": "code",
   "execution_count": 23,
   "metadata": {},
   "outputs": [
    {
     "output_type": "execute_result",
     "data": {
      "text/plain": "-0.8116566676616643"
     },
     "metadata": {},
     "execution_count": 23
    }
   ],
   "source": [
    "np.sin(1.25*np.pi)*((1.4-1.6)/(1.25-1.6)) + np.sin(1.6*np.pi)*((1.4-1.25)/(1.6-1.25))"
   ]
  },
  {
   "cell_type": "code",
   "execution_count": 22,
   "metadata": {},
   "outputs": [
    {
     "output_type": "execute_result",
     "data": {
      "text/plain": "-0.9510565162951535"
     },
     "metadata": {},
     "execution_count": 22
    }
   ],
   "source": [
    "np.sin(np.pi*1.4)"
   ]
  },
  {
   "cell_type": "code",
   "execution_count": 25,
   "metadata": {},
   "outputs": [
    {
     "output_type": "execute_result",
     "data": {
      "text/plain": "0.1393998486334892"
     },
     "metadata": {},
     "execution_count": 25
    }
   ],
   "source": [
    "abs(-0.9510565162951535 + 0.8116566676616643)"
   ]
  },
  {
   "cell_type": "code",
   "execution_count": 28,
   "metadata": {},
   "outputs": [
    {
     "output_type": "execute_result",
     "data": {
      "text/plain": "-0.9182280617406016"
     },
     "metadata": {},
     "execution_count": 28
    }
   ],
   "source": [
    "np.sin(1.0*np.pi)*((1.4-1.25)*(1.4-1.6))/((1 -1.25)*(1-1.6)) + np.sin(1.25*np.pi)*((1.4-1.6)*(1.4-1.0))/((1.25-1.6)*(1.25-1.0)) + np.sin(1.6*np.pi)*((1.4-1.25)*(1.4-1.0))/((1.6-1.25)*(1.6-1.0))\n"
   ]
  },
  {
   "cell_type": "code",
   "execution_count": 29,
   "metadata": {},
   "outputs": [
    {
     "output_type": "execute_result",
     "data": {
      "text/plain": "0.03282845455455197"
     },
     "metadata": {},
     "execution_count": 29
    }
   ],
   "source": [
    "abs(-0.9182280617406016 + 0.9510565162951535)"
   ]
  },
  {
   "cell_type": "code",
   "execution_count": 1,
   "metadata": {},
   "outputs": [],
   "source": [
    "# we are looking to calculate f(0.43)\n",
    "x = 0.43\n",
    "x0 = 0.25\n",
    "x1 = 0.5\n",
    "x2 = 0.75\n",
    "f0 = 1.64872\n",
    "f1 = 2.71828\n",
    "f2 = 4.48169"
   ]
  },
  {
   "cell_type": "code",
   "execution_count": 11,
   "metadata": {},
   "outputs": [],
   "source": [
    "def neville_method(x, x0, x1, x2, f0, f1, f2):\n",
    "\n",
    "    X = [x0, x1, x2]\n",
    "\n",
    "    Q = np.array([\n",
    "        [f0, 0, 0],\n",
    "        [f1, 0, 0],\n",
    "        [f2, 0, 0]\n",
    "    ])\n",
    "\n",
    "    for i in range(1,3):\n",
    "        for j in range(1,i+1):\n",
    "            Q[i][j] = ((x - X[i-j])*Q[i][j-1] - (x - X[i])*Q[i-1][j-1])/(X[i] - X[i-j])\n",
    "    \n",
    "    return Q\n",
    "\n",
    "        "
   ]
  },
  {
   "cell_type": "code",
   "execution_count": 12,
   "metadata": {},
   "outputs": [
    {
     "output_type": "execute_result",
     "data": {
      "text/plain": "array([[1.64872   , 0.        , 0.        ],\n       [2.71828   , 2.4188032 , 0.        ],\n       [4.48169   , 2.2245252 , 2.34886312]])"
     },
     "metadata": {},
     "execution_count": 12
    }
   ],
   "source": [
    "neville_method(x, x0, x1, x2, f0, f1, f2)"
   ]
  },
  {
   "cell_type": "code",
   "execution_count": 2,
   "metadata": {},
   "outputs": [],
   "source": [
    "x = 8.4\n",
    "x0 = 8.1\n",
    "x1 = 8.3\n",
    "x2 = 8.6\n",
    "x3 = 8.7\n",
    "f0 = 16.94410\n",
    "f1 = 17.56492\n",
    "f2 = 18.50515\n",
    "f3 = 18.82091"
   ]
  },
  {
   "cell_type": "code",
   "execution_count": 8,
   "metadata": {},
   "outputs": [],
   "source": [
    "def div_diff(x, x0, x1, x2, x3, f0, f1, f2, f3):\n",
    "\n",
    "    X = [x0, x1, x2, x3]\n",
    "\n",
    "    F = np.array([\n",
    "        [f0, 0, 0, 0],\n",
    "        [f1, 0, 0, 0],\n",
    "        [f2, 0, 0, 0],\n",
    "        [f3, 0, 0, 0]\n",
    "    ])\n",
    "\n",
    "    for i in range(1, 4):\n",
    "        for j in range(1, i+1):\n",
    "            F[i][j] = (F[i][j-1]-F[i-1][j-1])/(X[i] - X[i-j])\n",
    "\n",
    "    ANSWER = F[0][0]\n",
    "\n",
    "    for i in range(1, 4):\n",
    "        PROD = 1\n",
    "        for j in range(0, i):\n",
    "            PROD *= (x - X[j])\n",
    "        ANSWER += F[i][i]*PROD\n",
    "\n",
    "    return ANSWER\n",
    "\n"
   ]
  },
  {
   "cell_type": "code",
   "execution_count": 9,
   "metadata": {},
   "outputs": [
    {
     "output_type": "execute_result",
     "data": {
      "text/plain": "17.877142499999998"
     },
     "metadata": {},
     "execution_count": 9
    }
   ],
   "source": [
    "div_diff(x, x0, x1, x2, x3, f0,f1 ,f2, f3)"
   ]
  },
  {
   "cell_type": "code",
   "execution_count": null,
   "metadata": {},
   "outputs": [],
   "source": []
  }
 ],
 "metadata": {
  "language_info": {
   "codemirror_mode": {
    "name": "ipython",
    "version": 3
   },
   "file_extension": ".py",
   "mimetype": "text/x-python",
   "name": "python",
   "nbconvert_exporter": "python",
   "pygments_lexer": "ipython3",
   "version": "3.7.0-final"
  },
  "orig_nbformat": 2,
  "kernelspec": {
   "name": "robins",
   "display_name": "robinS"
  }
 },
 "nbformat": 4,
 "nbformat_minor": 2
}