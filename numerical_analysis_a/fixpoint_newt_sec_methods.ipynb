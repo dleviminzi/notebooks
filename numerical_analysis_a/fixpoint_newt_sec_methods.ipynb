{
 "cells": [
  {
   "cell_type": "code",
   "execution_count": 33,
   "metadata": {},
   "outputs": [],
   "source": [
    "import numpy as np"
   ]
  },
  {
   "cell_type": "code",
   "execution_count": 2,
   "metadata": {},
   "outputs": [],
   "source": [
    "def g(x):\n",
    "    return x/2 + 3/(2*x)"
   ]
  },
  {
   "cell_type": "code",
   "execution_count": 35,
   "metadata": {},
   "outputs": [],
   "source": [
    "def fixed_point_iteration(g, p_0, TOL, n):\n",
    "    for i in range(n):\n",
    "        p = g(p_0)\n",
    "        print(\"p{} = {}\".format(i, p_0))\n",
    "\n",
    "        if abs(p_0-p) < TOL:\n",
    "            return 'p = {} in {} iterations'.format(p, i)\n",
    "            \n",
    "        p_0 = p\n",
    "    \n",
    "    return 'failed, p = {}'.format(p)"
   ]
  },
  {
   "cell_type": "code",
   "execution_count": 4,
   "metadata": {},
   "outputs": [
    {
     "data": {
      "text/plain": [
       "'p = 1.7320508100147274 in 3 iterations'"
      ]
     },
     "execution_count": 4,
     "metadata": {},
     "output_type": "execute_result"
    }
   ],
   "source": [
    "p_0 = 1.0\n",
    "TOL = 10**(-4)\n",
    "n = 100\n",
    "\n",
    "fixed_point_iteration(g, p_0, TOL, n)"
   ]
  },
  {
   "cell_type": "code",
   "execution_count": 5,
   "metadata": {},
   "outputs": [],
   "source": [
    "def f(x):\n",
    "    return -(x**3) - np.cos(x)"
   ]
  },
  {
   "cell_type": "code",
   "execution_count": 6,
   "metadata": {},
   "outputs": [],
   "source": [
    "def f_p(x):\n",
    "    return -3*(x**2) + np.sin(x)"
   ]
  },
  {
   "cell_type": "code",
   "execution_count": 49,
   "metadata": {},
   "outputs": [],
   "source": [
    "def newtons_method(f, f_p, p_0, TOL, n):\n",
    "    for i in range(n):\n",
    "        \n",
    "        p = p_0 - f(p_0)/f_p(p_0)\n",
    "        \n",
    "        if abs(p - p_0) < TOL:\n",
    "            return 'p = {} in {} iterations'.format(p, i)\n",
    "        print('p{} = {}'.format(i, p_0))\n",
    "        print('f(p{}) = {}\\n'.format(i, f(p_0)))\n",
    "        p_0 = p\n",
    "        \n",
    "    return 'failed, p = {}'.format(p)"
   ]
  },
  {
   "cell_type": "code",
   "execution_count": 8,
   "metadata": {},
   "outputs": [
    {
     "data": {
      "text/plain": [
       "'failed, p = -0.8656841631760818'"
      ]
     },
     "execution_count": 8,
     "metadata": {},
     "output_type": "execute_result"
    }
   ],
   "source": [
    "p_0 = -1\n",
    "TOL = 10**(-4)\n",
    "n = 2\n",
    "\n",
    "newtons_method(f, f_p, p_0, TOL, n)"
   ]
  },
  {
   "cell_type": "code",
   "execution_count": 58,
   "metadata": {},
   "outputs": [],
   "source": [
    "def secant_method(f, p_0, p_1, TOL, n):\n",
    "    q_0 = f(p_0)\n",
    "    q_1 = f(p_1)\n",
    "    \n",
    "    for i in range(n-1):\n",
    "        p = p_1 - q_1*(p_1 - p_0)/(q_1 - q_0)\n",
    "        \n",
    "        if abs(p - p_1) < TOL:\n",
    "            return 'p = {} in {} iterations'.format(p, i)\n",
    "        \n",
    "        p_0 = p_1 \n",
    "        q_0 = q_1 \n",
    "        p_1 = p\n",
    "        q_1 = f(p)\n",
    "        \n",
    "    return 'failed, p{} = {}, f(p{}) = {}'.format(i+2, p, i+2, f(p))    "
   ]
  },
  {
   "cell_type": "code",
   "execution_count": 10,
   "metadata": {},
   "outputs": [
    {
     "data": {
      "text/plain": [
       "'failed, p = -1.2520764889092288'"
      ]
     },
     "execution_count": 10,
     "metadata": {},
     "output_type": "execute_result"
    }
   ],
   "source": [
    "p_0 = -1\n",
    "p_1 = 0\n",
    "TOL = 10**(-4)\n",
    "n = 3\n",
    "\n",
    "secant_method(f, p_0, p_1, TOL, n)"
   ]
  },
  {
   "cell_type": "code",
   "execution_count": 14,
   "metadata": {},
   "outputs": [],
   "source": [
    "def f(x):\n",
    "    return np.exp(1)**x + 2**(-x) + 2*np.cos(x) - 6"
   ]
  },
  {
   "cell_type": "code",
   "execution_count": 39,
   "metadata": {},
   "outputs": [],
   "source": [
    "def f_p(x):\n",
    "    return 1 + np.sin(x)"
   ]
  },
  {
   "cell_type": "code",
   "execution_count": 17,
   "metadata": {},
   "outputs": [
    {
     "data": {
      "text/plain": [
       "'p = 1.829383601933849 in 7 iterations'"
      ]
     },
     "execution_count": 17,
     "metadata": {},
     "output_type": "execute_result"
    }
   ],
   "source": [
    "p_0 = 1\n",
    "TOL = 10**(-5)\n",
    "n = 100\n",
    "\n",
    "newtons_method(f, f_p, p_0, TOL, n)"
   ]
  },
  {
   "cell_type": "code",
   "execution_count": 18,
   "metadata": {},
   "outputs": [
    {
     "data": {
      "text/plain": [
       "'p = 1.8293836019273242 in 8 iterations'"
      ]
     },
     "execution_count": 18,
     "metadata": {},
     "output_type": "execute_result"
    }
   ],
   "source": [
    "p_0 = 1\n",
    "p_1 = 1.2\n",
    "TOL = 10**(-5)\n",
    "n = 100\n",
    "\n",
    "secant_method(f, p_0, p_1, TOL, n)"
   ]
  },
  {
   "cell_type": "code",
   "execution_count": 16,
   "metadata": {},
   "outputs": [],
   "source": [
    "def bisection_method(a, b, f, TOL, N):\n",
    "    f_a = f(a)\n",
    "    i = 1\n",
    "\n",
    "    while (i < N):\n",
    "\n",
    "        p = a + (b-a)/2\n",
    "        f_p = f(p)\n",
    "        print(\"a{} = {}\".format(i, a))\n",
    "        print(\"b{} = {}\".format(i, b))\n",
    "        print(\"p{} = {}\".format(i, p))\n",
    "        print(\"f_p{} = {}\\n\".format(i, f_p))\n",
    "        if (f_p == 0 or (b-a)/2 < TOL):\n",
    "            break\n",
    "\n",
    "        i += 1\n",
    "\n",
    "        if (f_a * f_p > 0):\n",
    "            a = p \n",
    "            f_a = f_p\n",
    "        else:\n",
    "            b = p\n",
    "\n",
    "    return p"
   ]
  },
  {
   "cell_type": "code",
   "execution_count": 59,
   "metadata": {},
   "outputs": [],
   "source": [
    "def f(x):\n",
    "    return x - np.cos(x)"
   ]
  },
  {
   "cell_type": "code",
   "execution_count": 27,
   "metadata": {
    "tags": []
   },
   "outputs": [
    {
     "output_type": "stream",
     "name": "stdout",
     "text": "a1 = 0\nb1 = 1\np1 = 0.5\nf_p1 = -0.20710678118654757\n\na2 = 0.5\nb2 = 1\np2 = 0.75\nf_p2 = 0.1553964424986395\n\na3 = 0.5\nb3 = 0.75\np3 = 0.625\nf_p3 = -0.02341977732550482\n\na4 = 0.625\nb4 = 0.75\np4 = 0.6875\nf_p4 = 0.066571093963258\n\na5 = 0.625\nb5 = 0.6875\np5 = 0.65625\nf_p5 = 0.02172452140413339\n\na6 = 0.625\nb6 = 0.65625\np6 = 0.640625\nf_p6 = -0.0008100080393891318\n\na7 = 0.640625\nb7 = 0.65625\np7 = 0.6484375\nf_p7 = 0.010466610801804\n\na8 = 0.640625\nb8 = 0.6484375\np8 = 0.64453125\nf_p8 = 0.004830646247165338\n\na9 = 0.640625\nb9 = 0.64453125\np9 = 0.642578125\nf_p9 = 0.0020109061142677964\n\na10 = 0.640625\nb10 = 0.642578125\np10 = 0.6416015625\nf_p10 = 0.0006005958893881003\n\na11 = 0.640625\nb11 = 0.6416015625\np11 = 0.64111328125\nf_p11 = -0.00010466934958675012\n\na12 = 0.64111328125\nb12 = 0.6416015625\np12 = 0.641357421875\nf_p12 = 0.00024797244970042875\n\na13 = 0.64111328125\nb13 = 0.641357421875\np13 = 0.6412353515625\nf_p13 = 7.165384520102513e-05\n\na14 = 0.64111328125\nb14 = 0.6412353515625\np14 = 0.64117431640625\nf_p14 = -1.6507178382529908e-05\n\na15 = 0.64117431640625\nb15 = 0.6412353515625\np15 = 0.641204833984375\nf_p15 = 2.7573476858777646e-05\n\na16 = 0.64117431640625\nb16 = 0.641204833984375\np16 = 0.6411895751953125\nf_p16 = 5.533185100881077e-06\n\na17 = 0.64117431640625\nb17 = 0.6411895751953125\np17 = 0.6411819458007812\nf_p17 = -5.486987675107358e-06\n\na18 = 0.6411819458007812\nb18 = 0.6411895751953125\np18 = 0.6411857604980469\nf_p18 = 2.3100954371635396e-08\n\na19 = 0.6411819458007812\nb19 = 0.6411857604980469\np19 = 0.6411838531494141\nf_p19 = -2.7319427999827894e-06\n\na20 = 0.6411838531494141\nb20 = 0.6411857604980469\np20 = 0.6411848068237305\nf_p20 = -1.3544207827509425e-06\n\na21 = 0.6411848068237305\nb21 = 0.6411857604980469\np21 = 0.6411852836608887\nf_p21 = -6.656598792176283e-07\n\na22 = 0.6411852836608887\nb22 = 0.6411857604980469\np22 = 0.6411855220794678\nf_p22 = -3.212794537077457e-07\n\na23 = 0.6411855220794678\nb23 = 0.6411857604980469\np23 = 0.6411856412887573\nf_p23 = -1.4908924750312025e-07\n\na24 = 0.6411856412887573\nb24 = 0.6411857604980469\np24 = 0.6411857008934021\nf_p24 = -6.299414601063091e-08\n\na25 = 0.6411857008934021\nb25 = 0.6411857604980469\np25 = 0.6411857306957245\nf_p25 = -1.9946595708475456e-08\n\na26 = 0.6411857306957245\nb26 = 0.6411857604980469\np26 = 0.6411857455968857\nf_p26 = 1.5771792760688186e-09\n\na27 = 0.6411857306957245\nb27 = 0.6411857455968857\np27 = 0.6411857381463051\nf_p27 = -9.184708216203319e-09\n\na28 = 0.6411857381463051\nb28 = 0.6411857455968857\np28 = 0.6411857418715954\nf_p28 = -3.803764414556099e-09\n\na29 = 0.6411857418715954\nb29 = 0.6411857455968857\np29 = 0.6411857437342405\nf_p29 = -1.1132925692436402e-09\n\na30 = 0.6411857437342405\nb30 = 0.6411857455968857\np30 = 0.6411857446655631\nf_p30 = 2.319433534125892e-10\n\na31 = 0.6411857437342405\nb31 = 0.6411857446655631\np31 = 0.6411857441999018\nf_p31 = -4.406746079155255e-10\n\na32 = 0.6411857441999018\nb32 = 0.6411857446655631\np32 = 0.6411857444327325\nf_p32 = -1.0436562725146814e-10\n\na33 = 0.6411857444327325\nb33 = 0.6411857446655631\np33 = 0.6411857445491478\nf_p33 = 6.378886308056053e-11\n\na34 = 0.6411857444327325\nb34 = 0.6411857445491478\np34 = 0.6411857444909401\nf_p34 = -2.0288326574302573e-11\n\na35 = 0.6411857444909401\nb35 = 0.6411857445491478\np35 = 0.641185744520044\nf_p35 = 2.175026825312898e-11\n\na36 = 0.6411857444909401\nb36 = 0.641185744520044\np36 = 0.641185744505492\nf_p36 = 7.309708394132031e-13\n\na37 = 0.6411857444909401\nb37 = 0.641185744505492\np37 = 0.6411857444982161\nf_p37 = -9.778733378595916e-12\n\na38 = 0.6411857444982161\nb38 = 0.641185744505492\np38 = 0.6411857445018541\nf_p38 = -4.523825758440125e-12\n\na39 = 0.6411857445018541\nb39 = 0.641185744505492\np39 = 0.641185744503673\nf_p39 = -1.8964829706646924e-12\n\na40 = 0.641185744503673\nb40 = 0.641185744505492\np40 = 0.6411857445045825\nf_p40 = -5.827560656257447e-13\n\na41 = 0.6411857445045825\nb41 = 0.641185744505492\np41 = 0.6411857445050373\nf_p41 = 7.416289804496046e-14\n\na42 = 0.6411857445045825\nb42 = 0.6411857445050373\np42 = 0.6411857445048099\nf_p42 = -2.5435209494162336e-13\n\na43 = 0.6411857445048099\nb43 = 0.6411857445050373\np43 = 0.6411857445049236\nf_p43 = -9.015010959956271e-14\n\na44 = 0.6411857445049236\nb44 = 0.6411857445050373\np44 = 0.6411857445049804\nf_p44 = -7.993605777301127e-15\n\na45 = 0.6411857445049804\nb45 = 0.6411857445050373\np45 = 0.6411857445050089\nf_p45 = 3.3084646133829665e-14\n\na46 = 0.6411857445049804\nb46 = 0.6411857445050089\np46 = 0.6411857445049947\nf_p46 = 1.2545520178264269e-14\n\na47 = 0.6411857445049804\nb47 = 0.6411857445049947\np47 = 0.6411857445049876\nf_p47 = 2.220446049250313e-15\n\na48 = 0.6411857445049804\nb48 = 0.6411857445049876\np48 = 0.641185744504984\nf_p48 = -2.886579864025407e-15\n\na49 = 0.641185744504984\nb49 = 0.6411857445049876\np49 = 0.6411857445049858\nf_p49 = -3.3306690738754696e-16\n\na50 = 0.6411857445049858\nb50 = 0.6411857445049876\np50 = 0.6411857445049867\nf_p50 = 9.992007221626409e-16\n\na51 = 0.6411857445049858\nb51 = 0.6411857445049867\np51 = 0.6411857445049862\nf_p51 = 3.3306690738754696e-16\n\na52 = 0.6411857445049858\nb52 = 0.6411857445049862\np52 = 0.641185744504986\nf_p52 = 0.0\n\n"
    },
    {
     "output_type": "execute_result",
     "data": {
      "text/plain": "0.641185744504986"
     },
     "metadata": {},
     "execution_count": 27
    }
   ],
   "source": [
    "bisection_method(0, 1, f, 10^-5, 400)"
   ]
  },
  {
   "cell_type": "code",
   "execution_count": 23,
   "metadata": {},
   "outputs": [
    {
     "output_type": "execute_result",
     "data": {
      "text/plain": "False"
     },
     "metadata": {},
     "execution_count": 23
    }
   ],
   "source": [
    "10**(-5) < 2**(-17)"
   ]
  },
  {
   "cell_type": "code",
   "execution_count": 28,
   "metadata": {},
   "outputs": [
    {
     "output_type": "execute_result",
     "data": {
      "text/plain": "True"
     },
     "metadata": {},
     "execution_count": 28
    }
   ],
   "source": [
    "abs(0.641000 - 0.641185744504986) > 10**(-5)"
   ]
  },
  {
   "cell_type": "code",
   "execution_count": 36,
   "metadata": {
    "tags": []
   },
   "outputs": [
    {
     "output_type": "stream",
     "name": "stdout",
     "text": "p0 = 1.5707963267948966\np1 = 2.788039262996519\np2 = 3.0536639431475607\np3 = 3.1196175567234605\np4 = 3.1360989899129756\np5 = 3.140219239397678\np6 = 3.14124930006875\np7 = 3.141506815209954\np8 = 3.14157119399484\np9 = 3.141587288691055\np10 = 3.1415913123651085\np11 = 3.141592318283622\np12 = 3.14159256976325\np13 = 3.141592632633157\np14 = 3.1415926483506342\np15 = 3.1415926522800035\np16 = 3.1415926532623457\np17 = 3.141592653507931\np18 = 3.1415926535693277\np19 = 3.1415926535846768\n"
    },
    {
     "output_type": "execute_result",
     "data": {
      "text/plain": "'failed, p = 3.141592653588514'"
     },
     "metadata": {},
     "execution_count": 36
    }
   ],
   "source": [
    "fixed_point_iteration(f, np.pi/2, 10^-10, 20)"
   ]
  },
  {
   "cell_type": "code",
   "execution_count": 37,
   "metadata": {},
   "outputs": [
    {
     "output_type": "execute_result",
     "data": {
      "text/plain": "2.788039262996519"
     },
     "metadata": {},
     "execution_count": 37
    }
   ],
   "source": [
    "np.pi - 0.5*np.cos((np.pi/2)/2)"
   ]
  },
  {
   "cell_type": "code",
   "execution_count": 50,
   "metadata": {
    "tags": []
   },
   "outputs": [
    {
     "output_type": "stream",
     "name": "stdout",
     "text": "p0 = 0.7853981633974483\nf(p0) = 0.0782913822109007\n\np1 = 0.7395361335152383\nf(p1) = 0.000754874682502682\n\np2 = 0.7390851781060102\nf(p2) = 7.512986655022758e-08\n\np3 = 0.739085133215161\nf(p3) = 6.661338147750939e-16\n\np4 = 0.7390851332151606\nf(p4) = -1.1102230246251565e-16\n\n"
    },
    {
     "output_type": "execute_result",
     "data": {
      "text/plain": "'p = 0.7390851332151607 in 5 iterations'"
     },
     "metadata": {},
     "execution_count": 50
    }
   ],
   "source": [
    "newtons_method(f, f_p, np.pi/4, 10**(-100), 50)"
   ]
  },
  {
   "cell_type": "code",
   "execution_count": 53,
   "metadata": {},
   "outputs": [
    {
     "output_type": "execute_result",
     "data": {
      "text/plain": "8.866431492058548e-09"
     },
     "metadata": {},
     "execution_count": 53
    }
   ],
   "source": [
    "6.661338147750939e-16/7.512986655022758e-08\n"
   ]
  },
  {
   "cell_type": "code",
   "execution_count": 75,
   "metadata": {},
   "outputs": [
    {
     "output_type": "execute_result",
     "data": {
      "text/plain": "'p = 0.7390851568689653 in 3 iterations'"
     },
     "metadata": {},
     "execution_count": 75
    }
   ],
   "source": [
    "secant_method(f, 0, np.pi/6, 10**(-4), 5)"
   ]
  },
  {
   "cell_type": "code",
   "execution_count": null,
   "metadata": {},
   "outputs": [],
   "source": [
    "def neville_method(x0, x1, x2, f):\n",
    "    Q = np.array[\n",
    "        [f(x0), 0, 0],\n",
    "        [f(x1), 0, 0],\n",
    "        [f(x2), 0, 0]\n",
    "    ]\n",
    "    i = 1\n",
    "    while (i < 3):\n",
    "        j = 1\n",
    "        while (j < i+1):\n",
    "            Q[i][j] = \n"
   ]
  }
 ],
 "metadata": {
  "kernelspec": {
   "display_name": "robinS",
   "language": "python",
   "name": "robins"
  },
  "language_info": {
   "codemirror_mode": {
    "name": "ipython",
    "version": 3
   },
   "file_extension": ".py",
   "mimetype": "text/x-python",
   "name": "python",
   "nbconvert_exporter": "python",
   "pygments_lexer": "ipython3",
   "version": "3.7.0-final"
  }
 },
 "nbformat": 4,
 "nbformat_minor": 4
}